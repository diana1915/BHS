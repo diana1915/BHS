{
 "nbformat": 4,
 "nbformat_minor": 0,
 "metadata": {
  "colab": {
   "provenance": []
  },
  "kernelspec": {
   "name": "python3",
   "display_name": "Python 3 (ipykernel)",
   "language": "python"
  },
  "language_info": {
   "name": "python"
  }
 },
 "cells": [
  {
   "cell_type": "code",
   "source": [
    "!pip install torchviz"
   ],
   "metadata": {
    "id": "qj_nTH23qYWf",
    "colab": {
     "base_uri": "https://localhost:8080/",
     "height": 0
    },
    "outputId": "ceb8c093-098e-425c-b5fe-c2a54917403b",
    "ExecuteTime": {
     "end_time": "2024-10-31T13:53:09.816655Z",
     "start_time": "2024-10-31T13:52:52.551761Z"
    }
   },
   "outputs": [
    {
     "name": "stdout",
     "output_type": "stream",
     "text": [
      "Collecting torchviz\n",
      "  Downloading torchviz-0.0.2.tar.gz (4.9 kB)\n",
      "  Installing build dependencies: started\n",
      "  Installing build dependencies: finished with status 'done'\n",
      "  Getting requirements to build wheel: started\n",
      "  Getting requirements to build wheel: finished with status 'done'\n",
      "  Preparing metadata (pyproject.toml): started\n",
      "  Preparing metadata (pyproject.toml): finished with status 'done'\n",
      "Requirement already satisfied: torch in c:\\users\\diana\\pythonproject\\hw\\venv\\lib\\site-packages (from torchviz) (2.5.0)\n",
      "Collecting graphviz (from torchviz)\n",
      "  Obtaining dependency information for graphviz from https://files.pythonhosted.org/packages/00/be/d59db2d1d52697c6adc9eacaf50e8965b6345cc143f671e1ed068818d5cf/graphviz-0.20.3-py3-none-any.whl.metadata\n",
      "  Downloading graphviz-0.20.3-py3-none-any.whl.metadata (12 kB)\n",
      "Requirement already satisfied: filelock in c:\\users\\diana\\pythonproject\\hw\\venv\\lib\\site-packages (from torch->torchviz) (3.16.1)\n",
      "Requirement already satisfied: typing-extensions>=4.8.0 in c:\\users\\diana\\pythonproject\\hw\\venv\\lib\\site-packages (from torch->torchviz) (4.12.2)\n",
      "Requirement already satisfied: networkx in c:\\users\\diana\\pythonproject\\hw\\venv\\lib\\site-packages (from torch->torchviz) (3.4.2)\n",
      "Requirement already satisfied: jinja2 in c:\\users\\diana\\pythonproject\\hw\\venv\\lib\\site-packages (from torch->torchviz) (3.1.4)\n",
      "Requirement already satisfied: fsspec in c:\\users\\diana\\pythonproject\\hw\\venv\\lib\\site-packages (from torch->torchviz) (2024.9.0)\n",
      "Requirement already satisfied: setuptools in c:\\users\\diana\\pythonproject\\hw\\venv\\lib\\site-packages (from torch->torchviz) (75.2.0)\n",
      "Requirement already satisfied: sympy==1.13.1 in c:\\users\\diana\\pythonproject\\hw\\venv\\lib\\site-packages (from torch->torchviz) (1.13.1)\n",
      "Requirement already satisfied: mpmath<1.4,>=1.1.0 in c:\\users\\diana\\pythonproject\\hw\\venv\\lib\\site-packages (from sympy==1.13.1->torch->torchviz) (1.3.0)\n",
      "Requirement already satisfied: MarkupSafe>=2.0 in c:\\users\\diana\\pythonproject\\hw\\venv\\lib\\site-packages (from jinja2->torch->torchviz) (3.0.2)\n",
      "Downloading graphviz-0.20.3-py3-none-any.whl (47 kB)\n",
      "   ---------------------------------------- 0.0/47.1 kB ? eta -:--:--\n",
      "   -------- ------------------------------- 10.2/47.1 kB ? eta -:--:--\n",
      "   ---------------------------------------- 47.1/47.1 kB 784.8 kB/s eta 0:00:00\n",
      "Building wheels for collected packages: torchviz\n",
      "  Building wheel for torchviz (pyproject.toml): started\n",
      "  Building wheel for torchviz (pyproject.toml): finished with status 'done'\n",
      "  Created wheel for torchviz: filename=torchviz-0.0.2-py3-none-any.whl size=4137 sha256=1fec181063b65740559c6f9588bfcf1724f056f04efa33dd8bbd04b1b365258e\n",
      "  Stored in directory: c:\\users\\diana\\appdata\\local\\pip\\cache\\wheels\\98\\f2\\3d\\290537e0ff7f67aaa647847a10fb5ee5eca305b3c41a774523\n",
      "Successfully built torchviz\n",
      "Installing collected packages: graphviz, torchviz\n",
      "Successfully installed graphviz-0.20.3 torchviz-0.0.2\n"
     ]
    },
    {
     "name": "stderr",
     "output_type": "stream",
     "text": [
      "\n",
      "[notice] A new release of pip is available: 23.2.1 -> 24.3.1\n",
      "[notice] To update, run: python.exe -m pip install --upgrade pip\n"
     ]
    }
   ],
   "execution_count": 1
  },
  {
   "cell_type": "code",
   "source": [
    "import torch\n",
    "import torch.nn as nn\n",
    "from torch.utils.data import DataLoader, Dataset\n",
    "import torchvision\n",
    "import numpy as np\n",
    "from sklearn.model_selection import train_test_split\n",
    "import torchvision.transforms as transforms\n",
    "from tqdm import tqdm\n",
    "from torchviz import make_dot\n",
    "import matplotlib.pyplot as plt"
   ],
   "metadata": {
    "id": "cGbI46RX78DE",
    "ExecuteTime": {
     "end_time": "2024-10-31T13:53:22.619086Z",
     "start_time": "2024-10-31T13:53:09.817679Z"
    }
   },
   "outputs": [],
   "execution_count": 2
  },
  {
   "cell_type": "code",
   "source": [
    "transform = transforms.ToTensor()\n",
    "train_dataset = torchvision.datasets.FashionMNIST(root='./data', train=True, download=True, transform=transform)\n",
    "test_dataset = torchvision.datasets.FashionMNIST(root = \"./data\", train = False, download=True, transform=transform)"
   ],
   "metadata": {
    "id": "j8ZArIEV8U58",
    "colab": {
     "base_uri": "https://localhost:8080/",
     "height": 0
    },
    "outputId": "65369664-d300-4853-df9a-f83740ad2889",
    "ExecuteTime": {
     "end_time": "2024-10-31T13:53:32.241697Z",
     "start_time": "2024-10-31T13:53:22.620098Z"
    }
   },
   "outputs": [
    {
     "name": "stdout",
     "output_type": "stream",
     "text": [
      "Downloading http://fashion-mnist.s3-website.eu-central-1.amazonaws.com/train-images-idx3-ubyte.gz\n",
      "Downloading http://fashion-mnist.s3-website.eu-central-1.amazonaws.com/train-images-idx3-ubyte.gz to ./data\\FashionMNIST\\raw\\train-images-idx3-ubyte.gz\n"
     ]
    },
    {
     "name": "stderr",
     "output_type": "stream",
     "text": [
      "100%|██████████| 26.4M/26.4M [00:05<00:00, 4.65MB/s]\n"
     ]
    },
    {
     "name": "stdout",
     "output_type": "stream",
     "text": [
      "Extracting ./data\\FashionMNIST\\raw\\train-images-idx3-ubyte.gz to ./data\\FashionMNIST\\raw\n",
      "\n",
      "Downloading http://fashion-mnist.s3-website.eu-central-1.amazonaws.com/train-labels-idx1-ubyte.gz\n",
      "Downloading http://fashion-mnist.s3-website.eu-central-1.amazonaws.com/train-labels-idx1-ubyte.gz to ./data\\FashionMNIST\\raw\\train-labels-idx1-ubyte.gz\n"
     ]
    },
    {
     "name": "stderr",
     "output_type": "stream",
     "text": [
      "100%|██████████| 29.5k/29.5k [00:00<00:00, 630kB/s]\n"
     ]
    },
    {
     "name": "stdout",
     "output_type": "stream",
     "text": [
      "Extracting ./data\\FashionMNIST\\raw\\train-labels-idx1-ubyte.gz to ./data\\FashionMNIST\\raw\n",
      "\n",
      "Downloading http://fashion-mnist.s3-website.eu-central-1.amazonaws.com/t10k-images-idx3-ubyte.gz\n",
      "Downloading http://fashion-mnist.s3-website.eu-central-1.amazonaws.com/t10k-images-idx3-ubyte.gz to ./data\\FashionMNIST\\raw\\t10k-images-idx3-ubyte.gz\n"
     ]
    },
    {
     "name": "stderr",
     "output_type": "stream",
     "text": [
      "100%|██████████| 4.42M/4.42M [00:02<00:00, 1.94MB/s]\n"
     ]
    },
    {
     "name": "stdout",
     "output_type": "stream",
     "text": [
      "Extracting ./data\\FashionMNIST\\raw\\t10k-images-idx3-ubyte.gz to ./data\\FashionMNIST\\raw\n",
      "\n",
      "Downloading http://fashion-mnist.s3-website.eu-central-1.amazonaws.com/t10k-labels-idx1-ubyte.gz\n",
      "Downloading http://fashion-mnist.s3-website.eu-central-1.amazonaws.com/t10k-labels-idx1-ubyte.gz to ./data\\FashionMNIST\\raw\\t10k-labels-idx1-ubyte.gz\n"
     ]
    },
    {
     "name": "stderr",
     "output_type": "stream",
     "text": [
      "100%|██████████| 5.15k/5.15k [00:00<00:00, 9.87MB/s]"
     ]
    },
    {
     "name": "stdout",
     "output_type": "stream",
     "text": [
      "Extracting ./data\\FashionMNIST\\raw\\t10k-labels-idx1-ubyte.gz to ./data\\FashionMNIST\\raw\n",
      "\n"
     ]
    },
    {
     "name": "stderr",
     "output_type": "stream",
     "text": [
      "\n"
     ]
    }
   ],
   "execution_count": 3
  },
  {
   "cell_type": "code",
   "source": [
    "batch_size = 64\n",
    "train_loader = DataLoader(train_dataset, batch_size=batch_size, shuffle=False)\n",
    "test_loader = DataLoader(test_dataset, batch_size=batch_size, shuffle=False)"
   ],
   "metadata": {
    "id": "nabOH-LS79ij",
    "ExecuteTime": {
     "end_time": "2024-10-31T13:53:32.246790Z",
     "start_time": "2024-10-31T13:53:32.242201Z"
    }
   },
   "outputs": [],
   "execution_count": 4
  },
  {
   "cell_type": "code",
   "source": [
    "train_item = next(iter(train_loader))\n",
    "test_item = next(iter(test_loader))\n",
    "len(train_item), len(test_item), train_item[0].shape, train_item[1].shape"
   ],
   "metadata": {
    "colab": {
     "base_uri": "https://localhost:8080/",
     "height": 0
    },
    "id": "6lNf98Dr-Wpi",
    "outputId": "dd39b2bc-d269-4409-c625-995a6abb7aa2",
    "ExecuteTime": {
     "end_time": "2024-10-31T13:53:32.305615Z",
     "start_time": "2024-10-31T13:53:32.248854Z"
    }
   },
   "outputs": [
    {
     "data": {
      "text/plain": [
       "(2, 2, torch.Size([64, 1, 28, 28]), torch.Size([64]))"
      ]
     },
     "execution_count": 5,
     "metadata": {},
     "output_type": "execute_result"
    }
   ],
   "execution_count": 5
  },
  {
   "cell_type": "markdown",
   "source": [
    "Задача решаемая в этом ноутбуке, это классификация одежды на 10 классов из датасета FashionMNIST.\n",
    "1) Прежде всего заменяем списоки self.layers и self.norm на nn.ModuleList, так как при конвертации в прод например в openvino нужны модули которые отслеживаются pytorch\n",
    "2) Замена в layers_size 49 на 784, так как размерность выходного изображения 28*28\n",
    "\n",
    "\n",
    "Архитектура делает следущие шаги:\n",
    "1) Проходи сверткой размером (1,1), признаться честно не вижу смысла в этом действии, так как оно эквивалентно линейному слою с одинаковыми весами для всех пикселей.\n",
    "2) Линейные слои, далее норализация, функция активации и дропаут\n",
    "3) На выходе значения после последнего линейного слоя (in_features=16, out_features=10, bias=True). Так как задача классификации на 10 классов."
   ],
   "metadata": {
    "id": "Ixtd0K7gzdbO"
   }
  },
  {
   "cell_type": "code",
   "source": [
    "class NNModel(nn.Module):\n",
    "    def __init__(self,\n",
    "                 layers_size = [784, 32, 16, 10],\n",
    "                 dropout_prob = 1.0\n",
    "                 ):\n",
    "        super().__init__()\n",
    "        self.conv = nn.Conv2d(1, 1, kernel_size = 1, stride = 1)\n",
    "        self.layers = nn.ModuleList(nn.Linear(layers_size[i], layers_size[i+1]) for i in range(len(layers_size)-1))\n",
    "        self.norm = nn.ModuleList(nn.BatchNorm1d(inp_size, affine  = False) for inp_size in layers_size[1:-1])\n",
    "        self.relu = nn.ReLU()\n",
    "        self.dropout = nn.Dropout(p=dropout_prob)\n",
    "\n",
    "    def forward(self, batch):\n",
    "        bs = batch.shape[0]\n",
    "        batch = self.conv(batch).reshape(bs, -1)\n",
    "\n",
    "        for i, layer in enumerate(self.layers):\n",
    "            if i < len(self.layers) -1:\n",
    "                batch = self.dropout(self.relu(self.norm[i](layer(batch))))\n",
    "            else:\n",
    "                batch = layer(batch)\n",
    "        return batch\n",
    "\n",
    "    def print_net(self):\n",
    "        print(self.conv)\n",
    "        for i, layer in enumerate(self.layers):\n",
    "            if i < len(self.layers) -1:\n",
    "                print(layer)\n",
    "                print(self.norm[i])\n",
    "                print(self.relu)\n",
    "                print(self.dropout)\n",
    "            else:\n",
    "                print(layer)\n",
    "\n",
    "        return"
   ],
   "metadata": {
    "id": "Wv21tbtXmEbW",
    "ExecuteTime": {
     "end_time": "2024-10-31T13:59:25.408685Z",
     "start_time": "2024-10-31T13:59:25.402482Z"
    }
   },
   "outputs": [],
   "execution_count": 29
  },
  {
   "cell_type": "code",
   "source": [
    "mlp  = NNModel(dropout_prob = 0.1)\n",
    "\n",
    "predictions = mlp(train_item[0])\n",
    "make_dot(predictions, params=dict(mlp.named_parameters()))\n",
    "mlp.print_net()"
   ],
   "metadata": {
    "colab": {
     "base_uri": "https://localhost:8080/",
     "height": 1028
    },
    "id": "sD36MPJlp7m-",
    "outputId": "e7e1113e-bbed-4f25-bc90-25252fb5fd8d",
    "ExecuteTime": {
     "end_time": "2024-10-31T13:59:25.853219Z",
     "start_time": "2024-10-31T13:59:25.844337Z"
    }
   },
   "outputs": [
    {
     "name": "stdout",
     "output_type": "stream",
     "text": [
      "Conv2d(1, 1, kernel_size=(1, 1), stride=(1, 1))\n",
      "Linear(in_features=784, out_features=32, bias=True)\n",
      "BatchNorm1d(32, eps=1e-05, momentum=0.1, affine=False, track_running_stats=True)\n",
      "ReLU()\n",
      "Dropout(p=0.1, inplace=False)\n",
      "Linear(in_features=32, out_features=16, bias=True)\n",
      "BatchNorm1d(16, eps=1e-05, momentum=0.1, affine=False, track_running_stats=True)\n",
      "ReLU()\n",
      "Dropout(p=0.1, inplace=False)\n",
      "Linear(in_features=16, out_features=10, bias=True)\n"
     ]
    }
   ],
   "execution_count": 30
  },
  {
   "cell_type": "code",
   "metadata": {
    "id": "VtgLUBij7FGM",
    "colab": {
     "base_uri": "https://localhost:8080/",
     "height": 371
    },
    "outputId": "c63f51e1-aa1d-43f5-d357-38af2645b819",
    "ExecuteTime": {
     "end_time": "2024-10-31T14:02:47.269032Z",
     "start_time": "2024-10-31T14:02:43.115572Z"
    }
   },
   "source": [
    "num_epochs = 1000\n",
    "DEBUG = False\n",
    "ce_loss = nn.CrossEntropyLoss()\n",
    "optimizer = torch.optim.Adam(mlp.parameters(), lr =  0.01)\n",
    "\n",
    "logger = {'train':[],\n",
    "          'eval' :[]\n",
    "          }\n",
    "for epoch in range(num_epochs):\n",
    "\n",
    "    epoch_stat = []\n",
    "\n",
    "    # train part\n",
    "\n",
    "    mlp.train()\n",
    "    for batch in [train_item]:\n",
    "\n",
    "        images, labels = batch\n",
    "        images, labels = images.float(), labels.long()\n",
    "        predictions = mlp(images)\n",
    "        loss = ce_loss(predictions, labels)\n",
    "        loss.backward()\n",
    "        optimizer.step()\n",
    "\n",
    "        epoch_stat.append(loss.item())\n",
    "\n",
    "    if DEBUG: print(f\"train loss value = {np.mean(epoch_stat)}\")\n",
    "    logger['train'].append(np.mean(epoch_stat))\n",
    "\n",
    "\n",
    "    # eval part\n",
    "    with torch.no_grad():\n",
    "\n",
    "        eval_stat = []\n",
    "        for batch in [train_item]:\n",
    "\n",
    "            images, labels = batch\n",
    "            images, labels = images.float(), labels.long()\n",
    "\n",
    "            predictions = mlp(images)\n",
    "            loss = ce_loss(predictions, labels)\n",
    "\n",
    "            eval_stat.append(loss.item())\n",
    "    if DEBUG: print(f\"eval loss value = {np.mean(eval_stat)}\")\n",
    "    logger['eval'].append(np.mean(eval_stat))\n",
    "\n",
    "plt.plot(logger['train'], label='Train loss' )\n",
    "plt.plot(logger['eval'], label='Val loss')\n",
    "plt.legend()\n",
    "plt.show()"
   ],
   "outputs": [
    {
     "data": {
      "text/plain": [
       "<Figure size 640x480 with 1 Axes>"
      ],
      "image/png": "[encoded data removed]"
     },
     "metadata": {},
     "output_type": "display_data"
    }
   ],
   "execution_count": 33
  },
  {
   "metadata": {},
   "cell_type": "markdown",
   "source": "Убираем обратное распространение ошибки во время оценки модели, так как обучение не происходит. Аналогично для оптимизатора."
  },
  {
   "cell_type": "code",
   "source": [
    "mlp"
   ],
   "metadata": {
    "colab": {
     "base_uri": "https://localhost:8080/"
    },
    "id": "kR5E4dNasv-e",
    "outputId": "36bbc1e6-11f0-4117-dd44-b4e03403ad60",
    "ExecuteTime": {
     "end_time": "2024-10-31T14:02:50.781527Z",
     "start_time": "2024-10-31T14:02:50.775530Z"
    }
   },
   "outputs": [
    {
     "data": {
      "text/plain": [
       "NNModel(\n",
       "  (conv): Conv2d(1, 1, kernel_size=(1, 1), stride=(1, 1))\n",
       "  (layers): ModuleList(\n",
       "    (0): Linear(in_features=784, out_features=32, bias=True)\n",
       "    (1): Linear(in_features=32, out_features=16, bias=True)\n",
       "    (2): Linear(in_features=16, out_features=10, bias=True)\n",
       "  )\n",
       "  (norm): ModuleList(\n",
       "    (0): BatchNorm1d(32, eps=1e-05, momentum=0.1, affine=False, track_running_stats=True)\n",
       "    (1): BatchNorm1d(16, eps=1e-05, momentum=0.1, affine=False, track_running_stats=True)\n",
       "  )\n",
       "  (relu): ReLU()\n",
       "  (dropout): Dropout(p=0.1, inplace=False)\n",
       ")"
      ]
     },
     "execution_count": 34,
     "metadata": {},
     "output_type": "execute_result"
    }
   ],
   "execution_count": 34
  },
  {
   "cell_type": "code",
   "source": [
    "# pytorch_total_params = sum(p.numel() for p in mlp.parameters())\n",
    "# pytorch_total_params"
   ],
   "metadata": {
    "id": "3SknE_w6rB83"
   },
   "execution_count": null,
   "outputs": []
  }
 ]
}
