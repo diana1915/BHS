{
  "nbformat": 4,
  "nbformat_minor": 0,
  "metadata": {
    "colab": {
      "provenance": []
    },
    "kernelspec": {
      "name": "python3",
      "display_name": "Python 3"
    },
    "language_info": {
      "name": "python"
    }
  },
  "cells": [
    {
      "cell_type": "code",
      "execution_count": 14,
      "metadata": {
        "id": "Ga3lowyXjlvR"
      },
      "outputs": [],
      "source": [
        "def stairs(n):\n",
        "    if n <= 2:\n",
        "        return n\n",
        "    step_1, step_2 = 1, 2\n",
        "    for i in range(3, n + 1):\n",
        "        step_1, step_2 = step_2, step_1 + step_2\n",
        "    return step_2"
      ]
    },
    {
      "cell_type": "markdown",
      "source": [
        "Суть решения заключается в том, что мы можем выразить количество способов подняться за n шагов, через значения за n-1 (осталось подняться на 1 ступень) и n-2 (осталось подняться на 2 ступени) => f(n) = f(n-1) + f(n-2)."
      ],
      "metadata": {
        "id": "vQ3hMoRwopnZ"
      }
    },
    {
      "cell_type": "code",
      "source": [
        "print('Right answer 0, func answer', stairs(0))\n",
        "print('Right answer 1, func answer', stairs(1))\n",
        "print('Right answer 2, func answer', stairs(2))\n",
        "print('Right answer 3, func answer', stairs(3))\n",
        "print('Right answer 5, func answer', stairs(4))\n",
        "print('Right answer 8, func answer', stairs(5))\n",
        "print('Right answer 13, func answer', stairs(6))"
      ],
      "metadata": {
        "colab": {
          "base_uri": "https://localhost:8080/"
        },
        "id": "XkTHlraRkulC",
        "outputId": "979f2a52-f13a-4169-ac37-167aab322a9e"
      },
      "execution_count": 15,
      "outputs": [
        {
          "output_type": "stream",
          "name": "stdout",
          "text": [
            "Right answer 0, func answer 0\n",
            "Right answer 1, func answer 1\n",
            "Right answer 2, func answer 2\n",
            "Right answer 3, func answer 3\n",
            "Right answer 5, func answer 5\n",
            "Right answer 8, func answer 8\n",
            "Right answer 13, func answer 13\n"
          ]
        }
      ]
    },
    {
      "cell_type": "markdown",
      "source": [
        "Тесты покрывают все необходимые случаи для проверки руккурентного алгоритма.\n",
        "Временная сложность O(n).\n",
        "Сложность по памяти O(1)."
      ],
      "metadata": {
        "id": "2Cug7EjQqaoQ"
      }
    }
  ]
}