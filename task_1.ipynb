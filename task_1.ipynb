{
  "nbformat": 4,
  "nbformat_minor": 0,
  "metadata": {
    "colab": {
      "provenance": []
    },
    "kernelspec": {
      "name": "python3",
      "display_name": "Python 3"
    },
    "language_info": {
      "name": "python"
    }
  },
  "cells": [
    {
      "cell_type": "code",
      "execution_count": 1,
      "metadata": {
        "id": "GLIcK61HDb2s"
      },
      "outputs": [],
      "source": [
        "def substring(s):\n",
        "    max_len = 0\n",
        "    left = 0\n",
        "    indx = {}\n",
        "\n",
        "    for right in range(len(s)):\n",
        "        if s[right] in indx:\n",
        "            left = max(left, indx[s[right]] + 1)\n",
        "        indx[s[right]] = right\n",
        "        max_len = max(max_len, right - left + 1)\n",
        "\n",
        "    return max_len"
      ]
    },
    {
      "cell_type": "code",
      "source": [
        "s = \"aabchbad\" # базовый случай\n",
        "print('Right answer 5, func answer', substring(s))\n",
        "\n",
        "s = \"aaaaaaaa\" # случай когда 1 уникальный символ\n",
        "print('Right answer 1, func answer', substring(s))\n",
        "\n",
        "s = \"asdfghjkl\" # случай когда все символы разные\n",
        "print('Right answer 9, func answer', substring(s))\n",
        "\n",
        "s = \"\" # случай когда нет символов\n",
        "print('Right answer 0, func answer', substring(s))\n",
        "\n",
        "s = \"a\" # случай когда один символ\n",
        "print('Right answer 1, func answer', substring(s))"
      ],
      "metadata": {
        "colab": {
          "base_uri": "https://localhost:8080/"
        },
        "id": "pOTRDT70DoGr",
        "outputId": "b95992ee-ef9d-4c15-bcdf-fd54f458b48b"
      },
      "execution_count": 8,
      "outputs": [
        {
          "output_type": "stream",
          "name": "stdout",
          "text": [
            "Right answer 5, func answer 5\n",
            "Right answer 1, func answer 1\n",
            "Right answer 9, func answer 9\n",
            "Right answer 0, func answer 0\n",
            "Right answer 1, func answer 1\n"
          ]
        }
      ]
    },
    {
      "cell_type": "markdown",
      "source": [
        "Тестов представленных выше достаточно, так как рассматриваются все возможные случаи. Временная сложность О(n). Сложность по памяти O(m), где m — количество уникальных символов.\n",
        "Доступ к памяти производится за О(1). Решание в лоб было пройтись внешним и внутренним циклом для нахождения максимальной подстроки без повторений, однако тогда временная сложность была бы О(n^2), поэтому было принято решение использовать алгоритм двух указателей."
      ],
      "metadata": {
        "id": "8bwkJ2Msh2tg"
      }
    }
  ]
}